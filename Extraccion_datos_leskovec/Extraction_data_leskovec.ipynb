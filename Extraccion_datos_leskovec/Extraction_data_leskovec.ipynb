{
 "cells": [
  {
   "cell_type": "code",
   "execution_count": 1,
   "id": "b5d9c259",
   "metadata": {},
   "outputs": [],
   "source": [
    "import pandas as pd "
   ]
  },
  {
   "cell_type": "code",
   "execution_count": 2,
   "id": "2e8caa09",
   "metadata": {},
   "outputs": [],
   "source": [
    "fp = open('data_original_Leskovec.txt', 'r')"
   ]
  },
  {
   "cell_type": "code",
   "execution_count": 3,
   "id": "d640e4f3",
   "metadata": {},
   "outputs": [],
   "source": [
    "lines = fp.readlines()[6:]"
   ]
  },
  {
   "cell_type": "code",
   "execution_count": 4,
   "id": "aa9714f4",
   "metadata": {},
   "outputs": [],
   "source": [
    "indexes_clust = [i for i in range(len(lines)) if lines[i].split('\\t')[0] != '' and lines[i].split('\\t')[0] != '\\n']"
   ]
  },
  {
   "cell_type": "code",
   "execution_count": 5,
   "id": "d509f824",
   "metadata": {},
   "outputs": [],
   "source": [
    "for j in range(len(indexes_clust)):\n",
    "    \n",
    "    try:\n",
    "        lines_clust = lines[indexes_clust[j]:indexes_clust[j+1]]\n",
    "    except:\n",
    "        lines_clust = lines[indexes_clust[j]:]\n",
    "\n",
    "    root = lines_clust[0].split('\\t')[2]\n",
    "    fileid = int(lines_clust[0].split('\\t')[-1])\n",
    "\n",
    "    index_subphrases = [i for i in range(len(lines_clust)) if lines_clust[i].split('\\t')[0] == '' and lines_clust[i].split('\\t')[1] != '']\n",
    "    lines_subphrases = []\n",
    "    phrases = []\n",
    "    for k in range(len(index_subphrases)):\n",
    "        phrase = lines_clust[index_subphrases[k]].split('\\t')[3]\n",
    "        try:\n",
    "            lines_subphrase = lines_clust[index_subphrases[k]:index_subphrases[k+1]][1:-1]\n",
    "        except:\n",
    "            lines_subphrase = lines_clust[index_subphrases[k]:][1:-1]\n",
    "            \n",
    "        phrases += [phrase] * len(lines_subphrase)\n",
    "        lines_subphrases += lines_subphrase\n",
    "    \n",
    "    roots = [root] * len(lines_subphrases)\n",
    "    \n",
    "    df = pd.DataFrame()\n",
    "    df['time'] = [l.split('\\t')[2] for l in lines_subphrases]\n",
    "    df['frequency'] = [l.split('\\t')[3] for l in lines_subphrases]\n",
    "    df['media'] = [l.split('\\t')[4] for l in lines_subphrases]\n",
    "    df['url'] = [l.split('\\t')[5].replace('\\n','') for l in lines_subphrases]\n",
    "    df['phrase'] = phrases\n",
    "    df['root'] = roots\n",
    "    \n",
    "    df.to_csv(f'New_data_disgregada/Lkvec_id{fileid}.csv', index = False)\n"
   ]
  },
  {
   "cell_type": "code",
   "execution_count": null,
   "id": "06b4b2fe",
   "metadata": {},
   "outputs": [],
   "source": []
  }
 ],
 "metadata": {
  "kernelspec": {
   "display_name": "Python 3 (ipykernel)",
   "language": "python",
   "name": "python3"
  },
  "language_info": {
   "codemirror_mode": {
    "name": "ipython",
    "version": 3
   },
   "file_extension": ".py",
   "mimetype": "text/x-python",
   "name": "python",
   "nbconvert_exporter": "python",
   "pygments_lexer": "ipython3",
   "version": "3.8.10"
  }
 },
 "nbformat": 4,
 "nbformat_minor": 5
}
